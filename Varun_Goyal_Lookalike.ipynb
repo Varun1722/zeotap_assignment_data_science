{
 "cells": [
  {
   "cell_type": "code",
   "execution_count": 1,
   "id": "70a9fccb-f608-4bc6-8277-e3ca558116e1",
   "metadata": {},
   "outputs": [],
   "source": [
    "import pandas as pd\n",
    "\n",
    "# Load the datasets\n",
    "customers = pd.read_csv('Customers.csv')\n",
    "products = pd.read_csv('Products.csv')\n",
    "transactions = pd.read_csv('Transactions.csv')"
   ]
  },
  {
   "cell_type": "code",
   "execution_count": 2,
   "id": "eaa9063a-51e7-43af-86f3-c6b1449c2d0f",
   "metadata": {},
   "outputs": [],
   "source": [
    "customers['SignupDate'] = pd.to_datetime(customers['SignupDate'])\n",
    "transactions['TransactionDate'] = pd.to_datetime(transactions['TransactionDate'])"
   ]
  },
  {
   "cell_type": "code",
   "execution_count": 3,
   "id": "1f7f9e91-804b-4f83-89c1-926ce78c5ece",
   "metadata": {},
   "outputs": [],
   "source": [
    "customer_profiles = customers[['CustomerID', 'Region']]\n",
    "customer_profiles = pd.get_dummies(customer_profiles, columns=['Region'])"
   ]
  },
  {
   "cell_type": "code",
   "execution_count": 4,
   "id": "2ec093e4-78f8-48c5-abfc-9706d0cac823",
   "metadata": {},
   "outputs": [],
   "source": [
    "current_date = transactions['TransactionDate'].max()\n",
    "customers['SignupRecency'] = (current_date - customers['SignupDate']).dt.days\n",
    "customer_profiles = customer_profiles.merge(customers[['CustomerID', 'SignupRecency']], on='CustomerID')"
   ]
  },
  {
   "cell_type": "code",
   "execution_count": 5,
   "id": "1b90b8f9-b8b4-4362-9253-edbe2f796eab",
   "metadata": {},
   "outputs": [],
   "source": [
    "customer_spend = transactions.groupby('CustomerID')['TotalValue'].sum().reset_index()\n",
    "customer_spend.rename(columns={'TotalValue': 'TotalSpend'}, inplace=True)"
   ]
  },
  {
   "cell_type": "code",
   "execution_count": 6,
   "id": "bf972e43-3253-433e-9b35-077640f3debb",
   "metadata": {},
   "outputs": [],
   "source": [
    "customer_frequency = transactions.groupby('CustomerID').size().reset_index(name='PurchaseFrequency')"
   ]
  },
  {
   "cell_type": "code",
   "execution_count": 7,
   "id": "5e09cc3e-6588-4895-979d-7eb19fa02de4",
   "metadata": {},
   "outputs": [],
   "source": [
    "customer_avg_order = transactions.groupby('CustomerID')['TotalValue'].mean().reset_index()\n",
    "customer_avg_order.rename(columns={'TotalValue': 'AvgOrderValue'}, inplace=True)"
   ]
  },
  {
   "cell_type": "code",
   "execution_count": 8,
   "id": "2c6490d8-8744-4775-a470-841abd07db48",
   "metadata": {},
   "outputs": [],
   "source": [
    "transactions_products = transactions.merge(products[['ProductID', 'Category']], on='ProductID')"
   ]
  },
  {
   "cell_type": "code",
   "execution_count": 9,
   "id": "87146266-081f-42b4-87d6-dad134cd64ae",
   "metadata": {},
   "outputs": [],
   "source": [
    "customer_categories = transactions_products.groupby(['CustomerID', 'Category']).size().unstack(fill_value=0)\n",
    "customer_categories = customer_categories.reset_index()"
   ]
  },
  {
   "cell_type": "code",
   "execution_count": 10,
   "id": "c48670e4-55b4-4e5d-beca-b3ba0a1d8751",
   "metadata": {},
   "outputs": [],
   "source": [
    "# Start with customer_profiles\n",
    "customer_features = customer_profiles.copy()\n",
    "\n",
    "# Merge transaction features\n",
    "customer_features = customer_features.merge(customer_spend, on='CustomerID', how='left')\n",
    "customer_features = customer_features.merge(customer_frequency, on='CustomerID', how='left')\n",
    "customer_features = customer_features.merge(customer_avg_order, on='CustomerID', how='left')\n",
    "\n",
    "# Merge categories\n",
    "customer_features = customer_features.merge(customer_categories, on='CustomerID', how='left')\n",
    "\n",
    "# Replace NaN values with zeros\n",
    "customer_features.fillna(0, inplace=True)\n",
    "\n",
    "# Set CustomerID as index\n",
    "customer_features.set_index('CustomerID', inplace=True)"
   ]
  },
  {
   "cell_type": "code",
   "execution_count": 11,
   "id": "0176511d-f401-4c43-9b08-1f614315980a",
   "metadata": {},
   "outputs": [],
   "source": [
    "from sklearn.preprocessing import MinMaxScaler\n",
    "\n",
    "scaler = MinMaxScaler()\n",
    "customer_features_scaled = pd.DataFrame(scaler.fit_transform(customer_features), columns=customer_features.columns, index=customer_features.index)"
   ]
  },
  {
   "cell_type": "code",
   "execution_count": 12,
   "id": "fc55aec1-0216-441a-ad1f-21957651ff10",
   "metadata": {},
   "outputs": [],
   "source": [
    "from sklearn.metrics.pairwise import cosine_similarity\n",
    "\n",
    "# Compute the similarity matrix\n",
    "similarity_matrix = pd.DataFrame(cosine_similarity(customer_features_scaled), index=customer_features_scaled.index, columns=customer_features_scaled.index)"
   ]
  },
  {
   "cell_type": "code",
   "execution_count": 13,
   "id": "2c58d6ec-33b3-4e7b-8902-226a13f81139",
   "metadata": {},
   "outputs": [],
   "source": [
    "# Function to get top N similar customers\n",
    "def get_top_n_similar(customers_list, similarity_matrix, n=3):\n",
    "    top_n_similars = {}\n",
    "    for customer_id in customers_list:\n",
    "        # Get similarity scores for the customer\n",
    "        sim_scores = similarity_matrix.loc[customer_id]\n",
    "        # Exclude self-similarity\n",
    "        sim_scores = sim_scores.drop(customer_id)\n",
    "        # Get top N similar customers\n",
    "        top_n = sim_scores.nlargest(n)\n",
    "        # Store in dictionary\n",
    "        top_n_similars[customer_id] = list(zip(top_n.index, top_n.values))\n",
    "    return top_n_similars\n",
    "\n",
    "# Get top 3 similar customers for CustomerID C0001 - C0020\n",
    "customer_ids = ['C{:04d}'.format(i) for i in range(1, 201)]\n",
    "top_similars = get_top_n_similar(customer_ids, similarity_matrix, n=3)"
   ]
  },
  {
   "cell_type": "code",
   "execution_count": 19,
   "id": "b9edc4f9-1320-4f8a-b62c-d5515bc8bc4c",
   "metadata": {},
   "outputs": [],
   "source": [
    "# Prepare data for output\n",
    "output_data = []\n",
    "\n",
    "for cust_id, similars in lookalike_map.items():\n",
    "    entry = {'CustomerID': cust_id}\n",
    "    for i, (similar_cust_id, score) in enumerate(similars):\n",
    "        entry[f'SimilarCustomerID{i+1}'] = similar_cust_id\n",
    "        entry[f'SimilarityScore{i+1}'] = score\n",
    "    output_data.append(entry)\n",
    "\n",
    "# Create DataFrame\n",
    "lookalike_df = pd.DataFrame(output_data)\n",
    "\n",
    "# Fill NaN values with empty strings or zeros\n",
    "lookalike_df.fillna({'SimilarCustomerID1': '', 'SimilarityScore1': 0,\n",
    "                     'SimilarCustomerID2': '', 'SimilarityScore2': 0,\n",
    "                     'SimilarCustomerID3': '', 'SimilarityScore3': 0}, inplace=True)\n",
    "\n",
    "# Save the DataFrame to CSV\n",
    "lookalike_df.to_csv('Lookalike.csv', index=False)"
   ]
  },
  {
   "cell_type": "code",
   "execution_count": 18,
   "id": "107f0de6-c1ce-44f3-8836-51bbc198279a",
   "metadata": {},
   "outputs": [
    {
     "name": "stdout",
     "output_type": "stream",
     "text": [
      "Top 3 similar customers for C0001:\n",
      "CustomerID: C0112, Similarity Score: 0.9800\n",
      "CustomerID: C0192, Similarity Score: 0.9754\n",
      "CustomerID: C0118, Similarity Score: 0.9732\n"
     ]
    }
   ],
   "source": [
    "cust_id = 'C0001'\n",
    "similars = top_similars[cust_id]\n",
    "print(f\"Top 3 similar customers for {cust_id}:\")\n",
    "for similar_cust_id, score in similars:\n",
    "    print(f\"CustomerID: {similar_cust_id}, Similarity Score: {score:.4f}\")"
   ]
  },
  {
   "cell_type": "code",
   "execution_count": 16,
   "id": "c1a7c93f-d40d-4f37-96c2-45985e44624a",
   "metadata": {},
   "outputs": [
    {
     "data": {
      "text/html": [
       "<div>\n",
       "<style scoped>\n",
       "    .dataframe tbody tr th:only-of-type {\n",
       "        vertical-align: middle;\n",
       "    }\n",
       "\n",
       "    .dataframe tbody tr th {\n",
       "        vertical-align: top;\n",
       "    }\n",
       "\n",
       "    .dataframe thead th {\n",
       "        text-align: right;\n",
       "    }\n",
       "</style>\n",
       "<table border=\"1\" class=\"dataframe\">\n",
       "  <thead>\n",
       "    <tr style=\"text-align: right;\">\n",
       "      <th></th>\n",
       "      <th>Region_Asia</th>\n",
       "      <th>Region_Europe</th>\n",
       "      <th>Region_North America</th>\n",
       "      <th>Region_South America</th>\n",
       "      <th>SignupRecency</th>\n",
       "      <th>TotalSpend</th>\n",
       "      <th>PurchaseFrequency</th>\n",
       "      <th>AvgOrderValue</th>\n",
       "      <th>Books</th>\n",
       "      <th>Clothing</th>\n",
       "      <th>Electronics</th>\n",
       "      <th>Home Decor</th>\n",
       "    </tr>\n",
       "    <tr>\n",
       "      <th>CustomerID</th>\n",
       "      <th></th>\n",
       "      <th></th>\n",
       "      <th></th>\n",
       "      <th></th>\n",
       "      <th></th>\n",
       "      <th></th>\n",
       "      <th></th>\n",
       "      <th></th>\n",
       "      <th></th>\n",
       "      <th></th>\n",
       "      <th></th>\n",
       "      <th></th>\n",
       "    </tr>\n",
       "  </thead>\n",
       "  <tbody>\n",
       "    <tr>\n",
       "      <th>C0001</th>\n",
       "      <td>False</td>\n",
       "      <td>False</td>\n",
       "      <td>False</td>\n",
       "      <td>True</td>\n",
       "      <td>902</td>\n",
       "      <td>3354.52</td>\n",
       "      <td>5.0</td>\n",
       "      <td>670.904000</td>\n",
       "      <td>1.0</td>\n",
       "      <td>0.0</td>\n",
       "      <td>3.0</td>\n",
       "      <td>1.0</td>\n",
       "    </tr>\n",
       "    <tr>\n",
       "      <th>C0112</th>\n",
       "      <td>False</td>\n",
       "      <td>False</td>\n",
       "      <td>False</td>\n",
       "      <td>True</td>\n",
       "      <td>905</td>\n",
       "      <td>1959.51</td>\n",
       "      <td>3.0</td>\n",
       "      <td>653.170000</td>\n",
       "      <td>1.0</td>\n",
       "      <td>0.0</td>\n",
       "      <td>2.0</td>\n",
       "      <td>0.0</td>\n",
       "    </tr>\n",
       "    <tr>\n",
       "      <th>C0192</th>\n",
       "      <td>False</td>\n",
       "      <td>False</td>\n",
       "      <td>False</td>\n",
       "      <td>True</td>\n",
       "      <td>835</td>\n",
       "      <td>2072.72</td>\n",
       "      <td>4.0</td>\n",
       "      <td>518.180000</td>\n",
       "      <td>1.0</td>\n",
       "      <td>1.0</td>\n",
       "      <td>2.0</td>\n",
       "      <td>0.0</td>\n",
       "    </tr>\n",
       "    <tr>\n",
       "      <th>C0118</th>\n",
       "      <td>False</td>\n",
       "      <td>False</td>\n",
       "      <td>False</td>\n",
       "      <td>True</td>\n",
       "      <td>1071</td>\n",
       "      <td>3434.77</td>\n",
       "      <td>6.0</td>\n",
       "      <td>572.461667</td>\n",
       "      <td>2.0</td>\n",
       "      <td>1.0</td>\n",
       "      <td>2.0</td>\n",
       "      <td>1.0</td>\n",
       "    </tr>\n",
       "  </tbody>\n",
       "</table>\n",
       "</div>"
      ],
      "text/plain": [
       "            Region_Asia  Region_Europe  Region_North America  \\\n",
       "CustomerID                                                     \n",
       "C0001             False          False                 False   \n",
       "C0112             False          False                 False   \n",
       "C0192             False          False                 False   \n",
       "C0118             False          False                 False   \n",
       "\n",
       "            Region_South America  SignupRecency  TotalSpend  \\\n",
       "CustomerID                                                    \n",
       "C0001                       True            902     3354.52   \n",
       "C0112                       True            905     1959.51   \n",
       "C0192                       True            835     2072.72   \n",
       "C0118                       True           1071     3434.77   \n",
       "\n",
       "            PurchaseFrequency  AvgOrderValue  Books  Clothing  Electronics  \\\n",
       "CustomerID                                                                   \n",
       "C0001                     5.0     670.904000    1.0       0.0          3.0   \n",
       "C0112                     3.0     653.170000    1.0       0.0          2.0   \n",
       "C0192                     4.0     518.180000    1.0       1.0          2.0   \n",
       "C0118                     6.0     572.461667    2.0       1.0          2.0   \n",
       "\n",
       "            Home Decor  \n",
       "CustomerID              \n",
       "C0001              1.0  \n",
       "C0112              0.0  \n",
       "C0192              0.0  \n",
       "C0118              1.0  "
      ]
     },
     "execution_count": 16,
     "metadata": {},
     "output_type": "execute_result"
    }
   ],
   "source": [
    "# Compare profiles\n",
    "customer_features.loc[[cust_id] + [s[0] for s in similars]]"
   ]
  },
  {
   "cell_type": "code",
   "execution_count": null,
   "id": "ba3d3b4d-31b9-4b80-94ec-e85058b9eb21",
   "metadata": {},
   "outputs": [],
   "source": []
  }
 ],
 "metadata": {
  "kernelspec": {
   "display_name": "Python 3 (ipykernel)",
   "language": "python",
   "name": "python3"
  },
  "language_info": {
   "codemirror_mode": {
    "name": "ipython",
    "version": 3
   },
   "file_extension": ".py",
   "mimetype": "text/x-python",
   "name": "python",
   "nbconvert_exporter": "python",
   "pygments_lexer": "ipython3",
   "version": "3.10.0"
  }
 },
 "nbformat": 4,
 "nbformat_minor": 5
}
