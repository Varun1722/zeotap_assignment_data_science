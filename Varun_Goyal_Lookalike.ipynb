{
 "cells": [
  {
   "cell_type": "code",
   "execution_count": null,
   "id": "e5acb6ab-807b-4e85-bc8c-d797813a0b8c",
   "metadata": {},
   "outputs": [],
   "source": [
    "import pandas as pd\n",
    "import numpy as np\n",
    "from sklearn.preprocessing import MinMaxScaler\n",
    "from sklearn.metrics.pairwise import cosine_similarity\n",
    "import csv"
   ]
  },
  {
   "cell_type": "markdown",
   "id": "182755b5-8521-4c32-820e-681f0b33eeac",
   "metadata": {},
   "source": [
    "# Data Preprocessing"
   ]
  },
  {
   "cell_type": "code",
   "execution_count": 28,
   "id": "70a9fccb-f608-4bc6-8277-e3ca558116e1",
   "metadata": {},
   "outputs": [],
   "source": [
    "# Load the datasets\n",
    "customers = pd.read_csv('Customers.csv')\n",
    "products = pd.read_csv('Products.csv')\n",
    "transactions = pd.read_csv('Transactions.csv')"
   ]
  },
  {
   "cell_type": "code",
   "execution_count": 29,
   "id": "eaa9063a-51e7-43af-86f3-c6b1449c2d0f",
   "metadata": {},
   "outputs": [],
   "source": [
    "customers['SignupDate'] = pd.to_datetime(customers['SignupDate'])\n",
    "transactions['TransactionDate'] = pd.to_datetime(transactions['TransactionDate'])"
   ]
  },
  {
   "cell_type": "markdown",
   "id": "f700931a-f1f1-4b4f-9ec7-4c31fd546481",
   "metadata": {},
   "source": [
    "# Feature Engineering"
   ]
  },
  {
   "cell_type": "code",
   "execution_count": 3,
   "id": "1f7f9e91-804b-4f83-89c1-926ce78c5ece",
   "metadata": {},
   "outputs": [],
   "source": [
    "customer_profiles = customers[['CustomerID', 'Region']]\n",
    "customer_profiles = pd.get_dummies(customer_profiles, columns=['Region'])"
   ]
  },
  {
   "cell_type": "code",
   "execution_count": 30,
   "id": "2ec093e4-78f8-48c5-abfc-9706d0cac823",
   "metadata": {},
   "outputs": [],
   "source": [
    "current_date = transactions['TransactionDate'].max()\n",
    "customers['SignupRecency'] = (current_date - customers['SignupDate']).dt.days\n",
    "customer_profiles = customer_profiles.merge(customers[['CustomerID', 'SignupRecency']], on='CustomerID')"
   ]
  },
  {
   "cell_type": "code",
   "execution_count": 33,
   "id": "1b90b8f9-b8b4-4362-9253-edbe2f796eab",
   "metadata": {},
   "outputs": [
    {
     "data": {
      "text/html": [
       "<div>\n",
       "<style scoped>\n",
       "    .dataframe tbody tr th:only-of-type {\n",
       "        vertical-align: middle;\n",
       "    }\n",
       "\n",
       "    .dataframe tbody tr th {\n",
       "        vertical-align: top;\n",
       "    }\n",
       "\n",
       "    .dataframe thead th {\n",
       "        text-align: right;\n",
       "    }\n",
       "</style>\n",
       "<table border=\"1\" class=\"dataframe\">\n",
       "  <thead>\n",
       "    <tr style=\"text-align: right;\">\n",
       "      <th></th>\n",
       "      <th>CustomerID</th>\n",
       "      <th>TotalSpend</th>\n",
       "    </tr>\n",
       "  </thead>\n",
       "  <tbody>\n",
       "    <tr>\n",
       "      <th>0</th>\n",
       "      <td>C0001</td>\n",
       "      <td>3354.52</td>\n",
       "    </tr>\n",
       "    <tr>\n",
       "      <th>1</th>\n",
       "      <td>C0002</td>\n",
       "      <td>1862.74</td>\n",
       "    </tr>\n",
       "    <tr>\n",
       "      <th>2</th>\n",
       "      <td>C0003</td>\n",
       "      <td>2725.38</td>\n",
       "    </tr>\n",
       "    <tr>\n",
       "      <th>3</th>\n",
       "      <td>C0004</td>\n",
       "      <td>5354.88</td>\n",
       "    </tr>\n",
       "    <tr>\n",
       "      <th>4</th>\n",
       "      <td>C0005</td>\n",
       "      <td>2034.24</td>\n",
       "    </tr>\n",
       "  </tbody>\n",
       "</table>\n",
       "</div>"
      ],
      "text/plain": [
       "  CustomerID  TotalSpend\n",
       "0      C0001     3354.52\n",
       "1      C0002     1862.74\n",
       "2      C0003     2725.38\n",
       "3      C0004     5354.88\n",
       "4      C0005     2034.24"
      ]
     },
     "execution_count": 33,
     "metadata": {},
     "output_type": "execute_result"
    }
   ],
   "source": [
    "#Transaction features insights\n",
    "customer_spend = transactions.groupby('CustomerID')['TotalValue'].sum().reset_index()\n",
    "customer_spend.rename(columns={'TotalValue': 'TotalSpend'}, inplace=True)\n",
    "customer_spend.head()"
   ]
  },
  {
   "cell_type": "code",
   "execution_count": 34,
   "id": "bf972e43-3253-433e-9b35-077640f3debb",
   "metadata": {},
   "outputs": [
    {
     "data": {
      "text/html": [
       "<div>\n",
       "<style scoped>\n",
       "    .dataframe tbody tr th:only-of-type {\n",
       "        vertical-align: middle;\n",
       "    }\n",
       "\n",
       "    .dataframe tbody tr th {\n",
       "        vertical-align: top;\n",
       "    }\n",
       "\n",
       "    .dataframe thead th {\n",
       "        text-align: right;\n",
       "    }\n",
       "</style>\n",
       "<table border=\"1\" class=\"dataframe\">\n",
       "  <thead>\n",
       "    <tr style=\"text-align: right;\">\n",
       "      <th></th>\n",
       "      <th>CustomerID</th>\n",
       "      <th>PurchaseFrequency</th>\n",
       "    </tr>\n",
       "  </thead>\n",
       "  <tbody>\n",
       "    <tr>\n",
       "      <th>0</th>\n",
       "      <td>C0001</td>\n",
       "      <td>5</td>\n",
       "    </tr>\n",
       "    <tr>\n",
       "      <th>1</th>\n",
       "      <td>C0002</td>\n",
       "      <td>4</td>\n",
       "    </tr>\n",
       "    <tr>\n",
       "      <th>2</th>\n",
       "      <td>C0003</td>\n",
       "      <td>4</td>\n",
       "    </tr>\n",
       "    <tr>\n",
       "      <th>3</th>\n",
       "      <td>C0004</td>\n",
       "      <td>8</td>\n",
       "    </tr>\n",
       "    <tr>\n",
       "      <th>4</th>\n",
       "      <td>C0005</td>\n",
       "      <td>3</td>\n",
       "    </tr>\n",
       "  </tbody>\n",
       "</table>\n",
       "</div>"
      ],
      "text/plain": [
       "  CustomerID  PurchaseFrequency\n",
       "0      C0001                  5\n",
       "1      C0002                  4\n",
       "2      C0003                  4\n",
       "3      C0004                  8\n",
       "4      C0005                  3"
      ]
     },
     "execution_count": 34,
     "metadata": {},
     "output_type": "execute_result"
    }
   ],
   "source": [
    "customer_frequency = transactions.groupby('CustomerID').size().reset_index(name='PurchaseFrequency')\n",
    "customer_frequency.head()"
   ]
  },
  {
   "cell_type": "code",
   "execution_count": 35,
   "id": "5e09cc3e-6588-4895-979d-7eb19fa02de4",
   "metadata": {},
   "outputs": [
    {
     "data": {
      "text/html": [
       "<div>\n",
       "<style scoped>\n",
       "    .dataframe tbody tr th:only-of-type {\n",
       "        vertical-align: middle;\n",
       "    }\n",
       "\n",
       "    .dataframe tbody tr th {\n",
       "        vertical-align: top;\n",
       "    }\n",
       "\n",
       "    .dataframe thead th {\n",
       "        text-align: right;\n",
       "    }\n",
       "</style>\n",
       "<table border=\"1\" class=\"dataframe\">\n",
       "  <thead>\n",
       "    <tr style=\"text-align: right;\">\n",
       "      <th></th>\n",
       "      <th>CustomerID</th>\n",
       "      <th>AvgOrderValue</th>\n",
       "    </tr>\n",
       "  </thead>\n",
       "  <tbody>\n",
       "    <tr>\n",
       "      <th>0</th>\n",
       "      <td>C0001</td>\n",
       "      <td>670.904</td>\n",
       "    </tr>\n",
       "    <tr>\n",
       "      <th>1</th>\n",
       "      <td>C0002</td>\n",
       "      <td>465.685</td>\n",
       "    </tr>\n",
       "    <tr>\n",
       "      <th>2</th>\n",
       "      <td>C0003</td>\n",
       "      <td>681.345</td>\n",
       "    </tr>\n",
       "    <tr>\n",
       "      <th>3</th>\n",
       "      <td>C0004</td>\n",
       "      <td>669.360</td>\n",
       "    </tr>\n",
       "    <tr>\n",
       "      <th>4</th>\n",
       "      <td>C0005</td>\n",
       "      <td>678.080</td>\n",
       "    </tr>\n",
       "  </tbody>\n",
       "</table>\n",
       "</div>"
      ],
      "text/plain": [
       "  CustomerID  AvgOrderValue\n",
       "0      C0001        670.904\n",
       "1      C0002        465.685\n",
       "2      C0003        681.345\n",
       "3      C0004        669.360\n",
       "4      C0005        678.080"
      ]
     },
     "execution_count": 35,
     "metadata": {},
     "output_type": "execute_result"
    }
   ],
   "source": [
    "customer_avg_order = transactions.groupby('CustomerID')['TotalValue'].mean().reset_index()\n",
    "customer_avg_order.rename(columns={'TotalValue': 'AvgOrderValue'}, inplace=True)\n",
    "customer_avg_order.head()"
   ]
  },
  {
   "cell_type": "code",
   "execution_count": 37,
   "id": "87146266-081f-42b4-87d6-dad134cd64ae",
   "metadata": {},
   "outputs": [
    {
     "data": {
      "text/html": [
       "<div>\n",
       "<style scoped>\n",
       "    .dataframe tbody tr th:only-of-type {\n",
       "        vertical-align: middle;\n",
       "    }\n",
       "\n",
       "    .dataframe tbody tr th {\n",
       "        vertical-align: top;\n",
       "    }\n",
       "\n",
       "    .dataframe thead th {\n",
       "        text-align: right;\n",
       "    }\n",
       "</style>\n",
       "<table border=\"1\" class=\"dataframe\">\n",
       "  <thead>\n",
       "    <tr style=\"text-align: right;\">\n",
       "      <th>Category</th>\n",
       "      <th>CustomerID</th>\n",
       "      <th>Books</th>\n",
       "      <th>Clothing</th>\n",
       "      <th>Electronics</th>\n",
       "      <th>Home Decor</th>\n",
       "    </tr>\n",
       "  </thead>\n",
       "  <tbody>\n",
       "    <tr>\n",
       "      <th>0</th>\n",
       "      <td>C0001</td>\n",
       "      <td>1</td>\n",
       "      <td>0</td>\n",
       "      <td>3</td>\n",
       "      <td>1</td>\n",
       "    </tr>\n",
       "    <tr>\n",
       "      <th>1</th>\n",
       "      <td>C0002</td>\n",
       "      <td>0</td>\n",
       "      <td>2</td>\n",
       "      <td>0</td>\n",
       "      <td>2</td>\n",
       "    </tr>\n",
       "    <tr>\n",
       "      <th>2</th>\n",
       "      <td>C0003</td>\n",
       "      <td>0</td>\n",
       "      <td>1</td>\n",
       "      <td>1</td>\n",
       "      <td>2</td>\n",
       "    </tr>\n",
       "    <tr>\n",
       "      <th>3</th>\n",
       "      <td>C0004</td>\n",
       "      <td>3</td>\n",
       "      <td>0</td>\n",
       "      <td>2</td>\n",
       "      <td>3</td>\n",
       "    </tr>\n",
       "    <tr>\n",
       "      <th>4</th>\n",
       "      <td>C0005</td>\n",
       "      <td>0</td>\n",
       "      <td>0</td>\n",
       "      <td>2</td>\n",
       "      <td>1</td>\n",
       "    </tr>\n",
       "  </tbody>\n",
       "</table>\n",
       "</div>"
      ],
      "text/plain": [
       "Category CustomerID  Books  Clothing  Electronics  Home Decor\n",
       "0             C0001      1         0            3           1\n",
       "1             C0002      0         2            0           2\n",
       "2             C0003      0         1            1           2\n",
       "3             C0004      3         0            2           3\n",
       "4             C0005      0         0            2           1"
      ]
     },
     "execution_count": 37,
     "metadata": {},
     "output_type": "execute_result"
    }
   ],
   "source": [
    "customer_categories = transactions_products.groupby(['CustomerID', 'Category']).size().unstack(fill_value=0)\n",
    "customer_categories.reset_index(inplace=True)\n",
    "customer_categories.head()"
   ]
  },
  {
   "cell_type": "code",
   "execution_count": 38,
   "id": "c48670e4-55b4-4e5d-beca-b3ba0a1d8751",
   "metadata": {},
   "outputs": [],
   "source": [
    "# Combine Features\n",
    "\n",
    "customer_features = customer_profiles.copy()\n",
    "\n",
    "# Merge transaction features\n",
    "customer_features = customer_features.merge(customer_spend, on='CustomerID', how='left')\n",
    "customer_features = customer_features.merge(customer_frequency, on='CustomerID', how='left')\n",
    "customer_features = customer_features.merge(customer_avg_order, on='CustomerID', how='left')\n",
    "\n",
    "# Merge categories\n",
    "customer_features = customer_features.merge(customer_categories, on='CustomerID', how='left')\n",
    "\n",
    "# Replace NaN values with zeros\n",
    "customer_features.fillna(0, inplace=True)\n",
    "\n",
    "# Set CustomerID as index\n",
    "customer_features.set_index('CustomerID', inplace=True)"
   ]
  },
  {
   "cell_type": "markdown",
   "id": "aa385611-90ec-41f1-94e0-d963acf9c313",
   "metadata": {},
   "source": [
    "# Data Normalization"
   ]
  },
  {
   "cell_type": "code",
   "execution_count": 40,
   "id": "0176511d-f401-4c43-9b08-1f614315980a",
   "metadata": {},
   "outputs": [],
   "source": [
    "scaler = MinMaxScaler()\n",
    "customer_features_scaled = pd.DataFrame(scaler.fit_transform(customer_features), columns=customer_features.columns, index=customer_features.index)"
   ]
  },
  {
   "cell_type": "markdown",
   "id": "97920aca-d269-4c3d-a7c0-4bfe472a2b5e",
   "metadata": {},
   "source": [
    "## Calculating cosine similarity between customers"
   ]
  },
  {
   "cell_type": "code",
   "execution_count": 47,
   "id": "fc55aec1-0216-441a-ad1f-21957651ff10",
   "metadata": {},
   "outputs": [],
   "source": [
    "# Compute the similarity matrix\n",
    "similarity_matrix = pd.DataFrame(cosine_similarity(customer_features_scaled), index=customer_features_scaled.index, columns=customer_features_scaled.index)"
   ]
  },
  {
   "cell_type": "markdown",
   "id": "458e00e8-8f3b-4910-9eef-8e981fb9f080",
   "metadata": {},
   "source": [
    "## Get the top 3 Lookalikes "
   ]
  },
  {
   "cell_type": "code",
   "execution_count": 42,
   "id": "2c58d6ec-33b3-4e7b-8902-226a13f81139",
   "metadata": {},
   "outputs": [],
   "source": [
    "# 6. Generate Top 3 Lookalikes for Each Customer\n",
    "customer_ids = ['C{:04d}'.format(i) for i in range(1, 21)]\n",
    "lookalike_map = {}\n",
    "\n",
    "for cust_id in customer_ids:\n",
    "    if cust_id in similarity_matrix.index:\n",
    "        sim_scores = similarity_matrix.loc[cust_id]\n",
    "        sim_scores = sim_scores.drop(index=cust_id)\n",
    "        top_similars = sim_scores.nlargest(3)\n",
    "        similars_list = list(top_similars.items())\n",
    "        lookalike_map[cust_id] = similars_list\n",
    "    else:\n",
    "        lookalike_map[cust_id] = []"
   ]
  },
  {
   "cell_type": "code",
   "execution_count": 48,
   "id": "b9edc4f9-1320-4f8a-b62c-d5515bc8bc4c",
   "metadata": {},
   "outputs": [],
   "source": [
    "# Open the CSV file for writing\n",
    "with open('Varun_Goyal_Lookalike.csv', 'w', newline='') as csvfile:\n",
    "    fieldnames = ['CustomerID', 'Lookalikes']\n",
    "    writer = csv.DictWriter(csvfile, fieldnames=fieldnames)\n",
    "    \n",
    "    writer.writeheader()\n",
    "    for cust_id, similars in lookalike_map.items():\n",
    "        # Convert list of tuples to string representation\n",
    "        similars_str = str(similars)\n",
    "        writer.writerow({'CustomerID': cust_id, 'Lookalikes': similars_str})"
   ]
  },
  {
   "cell_type": "code",
   "execution_count": 49,
   "id": "107f0de6-c1ce-44f3-8836-51bbc198279a",
   "metadata": {},
   "outputs": [
    {
     "name": "stdout",
     "output_type": "stream",
     "text": [
      "Top 3 lookalikes for C0001:\n",
      "CustomerID: C0112, Similarity Score: 0.9837\n",
      "CustomerID: C0192, Similarity Score: 0.9806\n",
      "CustomerID: C0118, Similarity Score: 0.9780\n"
     ]
    }
   ],
   "source": [
    "# Example: Get lookalikes for a specific customer For eg: C0001\n",
    "cust_id = 'C0001'\n",
    "if cust_id in lookalike_map:\n",
    "    similars = lookalike_map[cust_id]\n",
    "    print(f\"Top 3 lookalikes for {cust_id}:\")\n",
    "    for similar_cust_id, score in similars:\n",
    "        print(f\"CustomerID: {similar_cust_id}, Similarity Score: {score:.4f}\")\n",
    "else:\n",
    "    print(f\"{cust_id} not found in the customer data.\")"
   ]
  },
  {
   "cell_type": "code",
   "execution_count": 50,
   "id": "c1a7c93f-d40d-4f37-96c2-45985e44624a",
   "metadata": {},
   "outputs": [
    {
     "data": {
      "text/html": [
       "<div>\n",
       "<style scoped>\n",
       "    .dataframe tbody tr th:only-of-type {\n",
       "        vertical-align: middle;\n",
       "    }\n",
       "\n",
       "    .dataframe tbody tr th {\n",
       "        vertical-align: top;\n",
       "    }\n",
       "\n",
       "    .dataframe thead th {\n",
       "        text-align: right;\n",
       "    }\n",
       "</style>\n",
       "<table border=\"1\" class=\"dataframe\">\n",
       "  <thead>\n",
       "    <tr style=\"text-align: right;\">\n",
       "      <th></th>\n",
       "      <th>Region_Asia</th>\n",
       "      <th>Region_Europe</th>\n",
       "      <th>Region_North America</th>\n",
       "      <th>Region_South America</th>\n",
       "      <th>SignupRecency_x</th>\n",
       "      <th>SignupRecency_y</th>\n",
       "      <th>TotalSpend</th>\n",
       "      <th>PurchaseFrequency</th>\n",
       "      <th>AvgOrderValue</th>\n",
       "      <th>Books</th>\n",
       "      <th>Clothing</th>\n",
       "      <th>Electronics</th>\n",
       "      <th>Home Decor</th>\n",
       "    </tr>\n",
       "    <tr>\n",
       "      <th>CustomerID</th>\n",
       "      <th></th>\n",
       "      <th></th>\n",
       "      <th></th>\n",
       "      <th></th>\n",
       "      <th></th>\n",
       "      <th></th>\n",
       "      <th></th>\n",
       "      <th></th>\n",
       "      <th></th>\n",
       "      <th></th>\n",
       "      <th></th>\n",
       "      <th></th>\n",
       "      <th></th>\n",
       "    </tr>\n",
       "  </thead>\n",
       "  <tbody>\n",
       "    <tr>\n",
       "      <th>C0001</th>\n",
       "      <td>False</td>\n",
       "      <td>False</td>\n",
       "      <td>False</td>\n",
       "      <td>True</td>\n",
       "      <td>902</td>\n",
       "      <td>902</td>\n",
       "      <td>3354.52</td>\n",
       "      <td>5.0</td>\n",
       "      <td>670.904000</td>\n",
       "      <td>1.0</td>\n",
       "      <td>0.0</td>\n",
       "      <td>3.0</td>\n",
       "      <td>1.0</td>\n",
       "    </tr>\n",
       "    <tr>\n",
       "      <th>C0112</th>\n",
       "      <td>False</td>\n",
       "      <td>False</td>\n",
       "      <td>False</td>\n",
       "      <td>True</td>\n",
       "      <td>905</td>\n",
       "      <td>905</td>\n",
       "      <td>1959.51</td>\n",
       "      <td>3.0</td>\n",
       "      <td>653.170000</td>\n",
       "      <td>1.0</td>\n",
       "      <td>0.0</td>\n",
       "      <td>2.0</td>\n",
       "      <td>0.0</td>\n",
       "    </tr>\n",
       "    <tr>\n",
       "      <th>C0192</th>\n",
       "      <td>False</td>\n",
       "      <td>False</td>\n",
       "      <td>False</td>\n",
       "      <td>True</td>\n",
       "      <td>835</td>\n",
       "      <td>835</td>\n",
       "      <td>2072.72</td>\n",
       "      <td>4.0</td>\n",
       "      <td>518.180000</td>\n",
       "      <td>1.0</td>\n",
       "      <td>1.0</td>\n",
       "      <td>2.0</td>\n",
       "      <td>0.0</td>\n",
       "    </tr>\n",
       "    <tr>\n",
       "      <th>C0118</th>\n",
       "      <td>False</td>\n",
       "      <td>False</td>\n",
       "      <td>False</td>\n",
       "      <td>True</td>\n",
       "      <td>1071</td>\n",
       "      <td>1071</td>\n",
       "      <td>3434.77</td>\n",
       "      <td>6.0</td>\n",
       "      <td>572.461667</td>\n",
       "      <td>2.0</td>\n",
       "      <td>1.0</td>\n",
       "      <td>2.0</td>\n",
       "      <td>1.0</td>\n",
       "    </tr>\n",
       "  </tbody>\n",
       "</table>\n",
       "</div>"
      ],
      "text/plain": [
       "            Region_Asia  Region_Europe  Region_North America  \\\n",
       "CustomerID                                                     \n",
       "C0001             False          False                 False   \n",
       "C0112             False          False                 False   \n",
       "C0192             False          False                 False   \n",
       "C0118             False          False                 False   \n",
       "\n",
       "            Region_South America  SignupRecency_x  SignupRecency_y  \\\n",
       "CustomerID                                                           \n",
       "C0001                       True              902              902   \n",
       "C0112                       True              905              905   \n",
       "C0192                       True              835              835   \n",
       "C0118                       True             1071             1071   \n",
       "\n",
       "            TotalSpend  PurchaseFrequency  AvgOrderValue  Books  Clothing  \\\n",
       "CustomerID                                                                  \n",
       "C0001          3354.52                5.0     670.904000    1.0       0.0   \n",
       "C0112          1959.51                3.0     653.170000    1.0       0.0   \n",
       "C0192          2072.72                4.0     518.180000    1.0       1.0   \n",
       "C0118          3434.77                6.0     572.461667    2.0       1.0   \n",
       "\n",
       "            Electronics  Home Decor  \n",
       "CustomerID                           \n",
       "C0001               3.0         1.0  \n",
       "C0112               2.0         0.0  \n",
       "C0192               2.0         0.0  \n",
       "C0118               2.0         1.0  "
      ]
     },
     "execution_count": 50,
     "metadata": {},
     "output_type": "execute_result"
    }
   ],
   "source": [
    "# Compare profiles\n",
    "customer_features.loc[[cust_id] + [s[0] for s in similars]]"
   ]
  }
 ],
 "metadata": {
  "kernelspec": {
   "display_name": "Python 3 (ipykernel)",
   "language": "python",
   "name": "python3"
  },
  "language_info": {
   "codemirror_mode": {
    "name": "ipython",
    "version": 3
   },
   "file_extension": ".py",
   "mimetype": "text/x-python",
   "name": "python",
   "nbconvert_exporter": "python",
   "pygments_lexer": "ipython3",
   "version": "3.10.0"
  }
 },
 "nbformat": 4,
 "nbformat_minor": 5
}
